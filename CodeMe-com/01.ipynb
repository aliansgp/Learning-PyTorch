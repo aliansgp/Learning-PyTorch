{
  "nbformat": 4,
  "nbformat_minor": 0,
  "metadata": {
    "colab": {
      "provenance": [],
      "include_colab_link": true
    },
    "kernelspec": {
      "name": "python3",
      "display_name": "Python 3"
    },
    "language_info": {
      "name": "python"
    }
  },
  "cells": [
    {
      "cell_type": "markdown",
      "metadata": {
        "id": "view-in-github",
        "colab_type": "text"
      },
      "source": [
        "<a href=\"https://colab.research.google.com/github/aliansgp/Learning-PyTorch/blob/main/CodeMe-com/01.ipynb\" target=\"_parent\"><img src=\"https://colab.research.google.com/assets/colab-badge.svg\" alt=\"Open In Colab\"/></a>"
      ]
    },
    {
      "cell_type": "code",
      "execution_count": 1,
      "metadata": {
        "id": "KZPqlEkw6cf9"
      },
      "outputs": [],
      "source": [
        "import torch\n",
        "import numpy as np\n"
      ]
    },
    {
      "cell_type": "code",
      "source": [
        "my_list = [[1,2,3],\n",
        "           [4,5,6],\n",
        "           [7,8,9]]"
      ],
      "metadata": {
        "id": "aoVbIUhl7pmJ"
      },
      "execution_count": 2,
      "outputs": []
    },
    {
      "cell_type": "code",
      "source": [
        "my_list"
      ],
      "metadata": {
        "id": "EPH22xat71vH",
        "outputId": "558f97be-07ae-4602-99a3-737615eb1f10",
        "colab": {
          "base_uri": "https://localhost:8080/"
        }
      },
      "execution_count": 3,
      "outputs": [
        {
          "output_type": "execute_result",
          "data": {
            "text/plain": [
              "[[1, 2, 3], [4, 5, 6], [7, 8, 9]]"
            ]
          },
          "metadata": {},
          "execution_count": 3
        }
      ]
    },
    {
      "cell_type": "code",
      "source": [
        "np_list = np.array([[1,2,3],[4,5,6],[7,8,9]])"
      ],
      "metadata": {
        "id": "tHg16D3R73wM"
      },
      "execution_count": 4,
      "outputs": []
    },
    {
      "cell_type": "code",
      "source": [
        "np_list"
      ],
      "metadata": {
        "id": "gRy9Aozh8cC3",
        "outputId": "4bd2a58e-c4ba-4c13-d994-ab1e09719b2a",
        "colab": {
          "base_uri": "https://localhost:8080/"
        }
      },
      "execution_count": 5,
      "outputs": [
        {
          "output_type": "execute_result",
          "data": {
            "text/plain": [
              "array([[1, 2, 3],\n",
              "       [4, 5, 6],\n",
              "       [7, 8, 9]])"
            ]
          },
          "metadata": {},
          "execution_count": 5
        }
      ]
    },
    {
      "cell_type": "code",
      "source": [
        "np_rand = np.random.rand(3,4)\n",
        "np_randint = np.random.randint(0,5,(4,3))"
      ],
      "metadata": {
        "id": "Enc35J2u8eMk"
      },
      "execution_count": 15,
      "outputs": []
    },
    {
      "cell_type": "code",
      "source": [
        "# this is 3 by 4 matrix (just entered shape of npArray in random.rand and values are between 0 to 1.)\n",
        "np_rand"
      ],
      "metadata": {
        "id": "2CwFswoJ9QCo",
        "outputId": "70327f82-bff0-4af9-c658-cfeec67d7c7b",
        "colab": {
          "base_uri": "https://localhost:8080/"
        }
      },
      "execution_count": 20,
      "outputs": [
        {
          "output_type": "execute_result",
          "data": {
            "text/plain": [
              "array([[0.75708945, 0.65762478, 0.86818264, 0.4797509 ],\n",
              "       [0.22092058, 0.30355511, 0.20206777, 0.84294186],\n",
              "       [0.18040259, 0.69044856, 0.70588698, 0.8541543 ]])"
            ]
          },
          "metadata": {},
          "execution_count": 20
        }
      ]
    },
    {
      "cell_type": "code",
      "source": [
        "np_rand.dtype"
      ],
      "metadata": {
        "id": "Ckb1XevS-b-t",
        "outputId": "9274032a-e3e6-4068-eadc-0edc5ff96b5d",
        "colab": {
          "base_uri": "https://localhost:8080/"
        }
      },
      "execution_count": 21,
      "outputs": [
        {
          "output_type": "execute_result",
          "data": {
            "text/plain": [
              "dtype('float64')"
            ]
          },
          "metadata": {},
          "execution_count": 21
        }
      ]
    },
    {
      "cell_type": "code",
      "source": [
        "# this is diffrent, low and high number must be configured and shape must be a tuple\n",
        "np_randint"
      ],
      "metadata": {
        "id": "WrNCQBBC9l49",
        "outputId": "70ec3c2d-d5a1-4e9d-cf26-7401cd1f4e0d",
        "colab": {
          "base_uri": "https://localhost:8080/"
        }
      },
      "execution_count": 18,
      "outputs": [
        {
          "output_type": "execute_result",
          "data": {
            "text/plain": [
              "array([[0, 2, 0],\n",
              "       [3, 0, 4],\n",
              "       [2, 1, 3],\n",
              "       [4, 2, 0]])"
            ]
          },
          "metadata": {},
          "execution_count": 18
        }
      ]
    },
    {
      "cell_type": "code",
      "source": [
        "tensor_2d = torch.rand(3,4)\n",
        "tensor_2d_int = torch.randint(0,5,(4,3))"
      ],
      "metadata": {
        "id": "OyYxzXdY95V7"
      },
      "execution_count": 22,
      "outputs": []
    },
    {
      "cell_type": "code",
      "source": [
        "# just like np\n",
        "tensor_2d"
      ],
      "metadata": {
        "id": "kw2moqCn-8cj",
        "outputId": "0f3a1a29-733d-41d0-c7d4-1b9b03cea3af",
        "colab": {
          "base_uri": "https://localhost:8080/"
        }
      },
      "execution_count": 25,
      "outputs": [
        {
          "output_type": "execute_result",
          "data": {
            "text/plain": [
              "tensor([[0.0222, 0.4151, 0.1779, 0.0783],\n",
              "        [0.5836, 0.6677, 0.9678, 0.9420],\n",
              "        [0.2872, 0.9561, 0.4862, 0.0708]])"
            ]
          },
          "metadata": {},
          "execution_count": 25
        }
      ]
    },
    {
      "cell_type": "code",
      "source": [
        "# just like np\n",
        "tensor_2d_int"
      ],
      "metadata": {
        "id": "kCW5ssFa--Fa",
        "outputId": "7852dee5-08ae-41b4-9550-d273c435da72",
        "colab": {
          "base_uri": "https://localhost:8080/"
        }
      },
      "execution_count": 26,
      "outputs": [
        {
          "output_type": "execute_result",
          "data": {
            "text/plain": [
              "tensor([[0, 0, 3],\n",
              "        [1, 3, 0],\n",
              "        [2, 1, 3],\n",
              "        [3, 4, 3]])"
            ]
          },
          "metadata": {},
          "execution_count": 26
        }
      ]
    },
    {
      "cell_type": "code",
      "source": [
        "# convert npArray into tensor\n",
        "# type is similar with np\n",
        "# default of tensors is float32 not 64\n",
        "np2tensor = torch.tensor(np_rand)\n",
        "np2tensor"
      ],
      "metadata": {
        "id": "6cBC_8G1_Acc",
        "outputId": "16a263d8-d5fa-4e78-8c6c-837870c4aff6",
        "colab": {
          "base_uri": "https://localhost:8080/"
        }
      },
      "execution_count": 28,
      "outputs": [
        {
          "output_type": "execute_result",
          "data": {
            "text/plain": [
              "tensor([[0.7571, 0.6576, 0.8682, 0.4798],\n",
              "        [0.2209, 0.3036, 0.2021, 0.8429],\n",
              "        [0.1804, 0.6904, 0.7059, 0.8542]], dtype=torch.float64)"
            ]
          },
          "metadata": {},
          "execution_count": 28
        }
      ]
    },
    {
      "cell_type": "code",
      "source": [],
      "metadata": {
        "id": "bMxDdfoJ_thL"
      },
      "execution_count": null,
      "outputs": []
    }
  ]
}