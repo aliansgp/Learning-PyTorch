{
  "nbformat": 4,
  "nbformat_minor": 0,
  "metadata": {
    "colab": {
      "provenance": [],
      "authorship_tag": "ABX9TyPVdv8DiCnSZ3aDcubLm9XI",
      "include_colab_link": true
    },
    "kernelspec": {
      "name": "python3",
      "display_name": "Python 3"
    },
    "language_info": {
      "name": "python"
    }
  },
  "cells": [
    {
      "cell_type": "markdown",
      "metadata": {
        "id": "view-in-github",
        "colab_type": "text"
      },
      "source": [
        "<a href=\"https://colab.research.google.com/github/aliansgp/Learning-PyTorch/blob/main/CodeMe-com/02.ipynb\" target=\"_parent\"><img src=\"https://colab.research.google.com/assets/colab-badge.svg\" alt=\"Open In Colab\"/></a>"
      ]
    },
    {
      "cell_type": "code",
      "execution_count": 1,
      "metadata": {
        "id": "WlHHqvljCaZg"
      },
      "outputs": [],
      "source": [
        "import torch"
      ]
    },
    {
      "cell_type": "code",
      "source": [
        "range_tensor = torch.arange(10)\n",
        "range_tensor"
      ],
      "metadata": {
        "id": "QJaZx-9JCuFH",
        "outputId": "6a17611e-4805-4f2c-d400-a7cd4f709403",
        "colab": {
          "base_uri": "https://localhost:8080/"
        }
      },
      "execution_count": 16,
      "outputs": [
        {
          "output_type": "execute_result",
          "data": {
            "text/plain": [
              "tensor([0, 1, 2, 3, 4, 5, 6, 7, 8, 9])"
            ]
          },
          "metadata": {},
          "execution_count": 16
        }
      ]
    },
    {
      "cell_type": "code",
      "source": [
        "# reshape\n",
        "reshape_range = range_tensor.reshape(2,5)\n",
        "reshape_range"
      ],
      "metadata": {
        "id": "VchYZgxxDEUH",
        "outputId": "d5b75f0d-9431-4b1d-a474-02087f2044aa",
        "colab": {
          "base_uri": "https://localhost:8080/"
        }
      },
      "execution_count": 4,
      "outputs": [
        {
          "output_type": "execute_result",
          "data": {
            "text/plain": [
              "tensor([[0, 1, 2, 3, 4],\n",
              "        [5, 6, 7, 8, 9]])"
            ]
          },
          "metadata": {},
          "execution_count": 4
        }
      ]
    },
    {
      "cell_type": "code",
      "source": [
        "# reshape if we dont know number of items:\n",
        "reshape_range = range_tensor.reshape(5,-1)\n",
        "reshape_range"
      ],
      "metadata": {
        "id": "497a8-irDb0P",
        "outputId": "487b61b0-77a9-4810-cb09-0feded0a5cde",
        "colab": {
          "base_uri": "https://localhost:8080/"
        }
      },
      "execution_count": 6,
      "outputs": [
        {
          "output_type": "execute_result",
          "data": {
            "text/plain": [
              "tensor([[0, 1],\n",
              "        [2, 3],\n",
              "        [4, 5],\n",
              "        [6, 7],\n",
              "        [8, 9]])"
            ]
          },
          "metadata": {},
          "execution_count": 6
        }
      ]
    },
    {
      "cell_type": "code",
      "source": [
        "# most be divided\n",
        "reshape_range = range_tensor.reshape(6,-1)\n",
        "reshape_range"
      ],
      "metadata": {
        "id": "ioLzkdBQEJxo",
        "outputId": "eb9daafb-02d8-45a1-c6af-bbc491a09819",
        "colab": {
          "base_uri": "https://localhost:8080/",
          "height": 208
        }
      },
      "execution_count": 8,
      "outputs": [
        {
          "output_type": "error",
          "ename": "RuntimeError",
          "evalue": "ignored",
          "traceback": [
            "\u001b[0;31m---------------------------------------------------------------------------\u001b[0m",
            "\u001b[0;31mRuntimeError\u001b[0m                              Traceback (most recent call last)",
            "\u001b[0;32m<ipython-input-8-b18559c93ee9>\u001b[0m in \u001b[0;36m<cell line: 2>\u001b[0;34m()\u001b[0m\n\u001b[1;32m      1\u001b[0m \u001b[0;31m# most be divided\u001b[0m\u001b[0;34m\u001b[0m\u001b[0;34m\u001b[0m\u001b[0m\n\u001b[0;32m----> 2\u001b[0;31m \u001b[0mreshape_range\u001b[0m \u001b[0;34m=\u001b[0m \u001b[0mrange_tensor\u001b[0m\u001b[0;34m.\u001b[0m\u001b[0mreshape\u001b[0m\u001b[0;34m(\u001b[0m\u001b[0;36m6\u001b[0m\u001b[0;34m,\u001b[0m\u001b[0;34m-\u001b[0m\u001b[0;36m1\u001b[0m\u001b[0;34m)\u001b[0m\u001b[0;34m\u001b[0m\u001b[0;34m\u001b[0m\u001b[0m\n\u001b[0m\u001b[1;32m      3\u001b[0m \u001b[0mreshape_range\u001b[0m\u001b[0;34m\u001b[0m\u001b[0;34m\u001b[0m\u001b[0m\n",
            "\u001b[0;31mRuntimeError\u001b[0m: shape '[6, -1]' is invalid for input of size 10"
          ]
        }
      ]
    },
    {
      "cell_type": "code",
      "source": [
        "# view\n",
        "view_range = range_tensor.view(5,-1)\n",
        "view_range"
      ],
      "metadata": {
        "id": "XnbSSJ-CEPTr",
        "outputId": "5a914497-f36e-43b7-a780-ae39a19dc752",
        "colab": {
          "base_uri": "https://localhost:8080/"
        }
      },
      "execution_count": 10,
      "outputs": [
        {
          "output_type": "execute_result",
          "data": {
            "text/plain": [
              "tensor([[0, 1],\n",
              "        [2, 3],\n",
              "        [4, 5],\n",
              "        [6, 7],\n",
              "        [8, 9]])"
            ]
          },
          "metadata": {},
          "execution_count": 10
        }
      ]
    },
    {
      "cell_type": "code",
      "source": [
        "view_range = range_tensor.view(2,5)\n",
        "view_range"
      ],
      "metadata": {
        "id": "my5aMQ_iE6iE",
        "outputId": "f88d2573-e336-42f1-a413-cd2eb78f3b45",
        "colab": {
          "base_uri": "https://localhost:8080/"
        }
      },
      "execution_count": 12,
      "outputs": [
        {
          "output_type": "execute_result",
          "data": {
            "text/plain": [
              "tensor([[0, 1, 2, 3, 4],\n",
              "        [5, 6, 7, 8, 9]])"
            ]
          },
          "metadata": {},
          "execution_count": 12
        }
      ]
    },
    {
      "cell_type": "code",
      "source": [
        "# reshape and view will update if main change:\n",
        "changed_tensor = range_tensor\n",
        "changed_tensor"
      ],
      "metadata": {
        "id": "CtEyOCJrFF_X",
        "outputId": "fd07e78d-3338-46a7-d1f0-ee148718a69a",
        "colab": {
          "base_uri": "https://localhost:8080/"
        }
      },
      "execution_count": 17,
      "outputs": [
        {
          "output_type": "execute_result",
          "data": {
            "text/plain": [
              "tensor([0, 1, 2, 3, 4, 5, 6, 7, 8, 9])"
            ]
          },
          "metadata": {},
          "execution_count": 17
        }
      ]
    },
    {
      "cell_type": "code",
      "source": [
        "changed_view = changed_tensor.view(2,5)\n",
        "changed_view"
      ],
      "metadata": {
        "id": "Ei_4HYwtGBBJ",
        "outputId": "1b07f7bd-1d14-43a9-964f-359b56b501d3",
        "colab": {
          "base_uri": "https://localhost:8080/"
        }
      },
      "execution_count": 18,
      "outputs": [
        {
          "output_type": "execute_result",
          "data": {
            "text/plain": [
              "tensor([[0, 1, 2, 3, 4],\n",
              "        [5, 6, 7, 8, 9]])"
            ]
          },
          "metadata": {},
          "execution_count": 18
        }
      ]
    },
    {
      "cell_type": "code",
      "source": [
        "changed_tensor[1] = 1234\n",
        "# changed_view will change without defining again:\n",
        "changed_view"
      ],
      "metadata": {
        "id": "ZWMrsj2YGQln",
        "outputId": "e591e922-f24c-4bfe-ab5d-29800ae42c1b",
        "colab": {
          "base_uri": "https://localhost:8080/"
        }
      },
      "execution_count": 19,
      "outputs": [
        {
          "output_type": "execute_result",
          "data": {
            "text/plain": [
              "tensor([[   0, 1234,    2,    3,    4],\n",
              "        [   5,    6,    7,    8,    9]])"
            ]
          },
          "metadata": {},
          "execution_count": 19
        }
      ]
    },
    {
      "cell_type": "code",
      "source": [
        "# also range_tensor changed!!!\n",
        "# we only changed changed_tensor...\n",
        "# all of this definitions are linked.\n",
        "range_tensor"
      ],
      "metadata": {
        "id": "CkzmeTP3Gc6B",
        "outputId": "5175f7d7-9775-4995-a79e-85b25abb8860",
        "colab": {
          "base_uri": "https://localhost:8080/"
        }
      },
      "execution_count": 22,
      "outputs": [
        {
          "output_type": "execute_result",
          "data": {
            "text/plain": [
              "tensor([   0, 1234,    2,    3,    4,    5,    6,    7,    8,    9])"
            ]
          },
          "metadata": {},
          "execution_count": 22
        }
      ]
    },
    {
      "cell_type": "code",
      "source": [
        "# Slicing\n",
        "range_tensor[1:4]"
      ],
      "metadata": {
        "id": "vi7mldkaGviL",
        "outputId": "dc347930-061d-422b-e124-888215500bed",
        "colab": {
          "base_uri": "https://localhost:8080/"
        }
      },
      "execution_count": 23,
      "outputs": [
        {
          "output_type": "execute_result",
          "data": {
            "text/plain": [
              "tensor([1234,    2,    3])"
            ]
          },
          "metadata": {},
          "execution_count": 23
        }
      ]
    },
    {
      "cell_type": "code",
      "source": [
        "# Calling a number with index will not return ,number,\n",
        "# it will return scaled number in tensor type\n",
        "# but we can use math operation\n",
        "range_tensor[1] + 1"
      ],
      "metadata": {
        "id": "XWCw1sn-HFXc",
        "outputId": "b58c21dd-b796-47d3-8027-528b3ea21375",
        "colab": {
          "base_uri": "https://localhost:8080/"
        }
      },
      "execution_count": 27,
      "outputs": [
        {
          "output_type": "execute_result",
          "data": {
            "text/plain": [
              "tensor(1235)"
            ]
          },
          "metadata": {},
          "execution_count": 27
        }
      ]
    },
    {
      "cell_type": "code",
      "source": [
        "# grab a column of a tensor\n",
        "view_range = view_range.view(5,2)\n",
        "view_range"
      ],
      "metadata": {
        "id": "gtitovkKHaNm",
        "outputId": "c7ae9bd1-1929-4e25-e579-86e3912bb998",
        "colab": {
          "base_uri": "https://localhost:8080/"
        }
      },
      "execution_count": 31,
      "outputs": [
        {
          "output_type": "execute_result",
          "data": {
            "text/plain": [
              "tensor([[   0, 1234],\n",
              "        [   2,    3],\n",
              "        [   4,    5],\n",
              "        [   6,    7],\n",
              "        [   8,    9]])"
            ]
          },
          "metadata": {},
          "execution_count": 31
        }
      ]
    },
    {
      "cell_type": "code",
      "source": [
        "# return a column items\n",
        "view_range[:,1]"
      ],
      "metadata": {
        "id": "zEfopjuBIEiA",
        "outputId": "50597614-f371-4721-ac7d-7f69f7a0b8f5",
        "colab": {
          "base_uri": "https://localhost:8080/"
        }
      },
      "execution_count": 33,
      "outputs": [
        {
          "output_type": "execute_result",
          "data": {
            "text/plain": [
              "tensor([1234,    3,    5,    7,    9])"
            ]
          },
          "metadata": {},
          "execution_count": 33
        }
      ]
    },
    {
      "cell_type": "code",
      "source": [
        "# return column as column:\n",
        "view_range[:,1:]"
      ],
      "metadata": {
        "id": "dwXC1SmzIPk0",
        "outputId": "ae9d92ab-6737-4e12-a962-dd86b4f57104",
        "colab": {
          "base_uri": "https://localhost:8080/"
        }
      },
      "execution_count": 34,
      "outputs": [
        {
          "output_type": "execute_result",
          "data": {
            "text/plain": [
              "tensor([[1234],\n",
              "        [   3],\n",
              "        [   5],\n",
              "        [   7],\n",
              "        [   9]])"
            ]
          },
          "metadata": {},
          "execution_count": 34
        }
      ]
    },
    {
      "cell_type": "code",
      "source": [],
      "metadata": {
        "id": "PDOlxR3NIjY_"
      },
      "execution_count": null,
      "outputs": []
    }
  ]
}